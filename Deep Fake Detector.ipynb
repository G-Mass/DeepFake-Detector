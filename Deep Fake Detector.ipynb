{
 "cells": [
  {
   "cell_type": "markdown",
   "metadata": {},
   "source": [
    "# Deepfake detector"
   ]
  },
  {
   "cell_type": "code",
   "execution_count": 3,
   "metadata": {},
   "outputs": [],
   "source": [
    "from PIL import Image\n",
    "import os\n",
    "import torch\n",
    "from torch.utils.data import TensorDataset, DataLoader, ConcatDataset\n",
    "from torchvision import transforms\n",
    "\n",
    "def load_images_with_labels(folder, label):\n",
    "    images = []\n",
    "    labels = []\n",
    "    for filename in os.listdir(folder):\n",
    "        img_path = os.path.join(folder, filename)\n",
    "        try:\n",
    "            with Image.open(img_path) as img:\n",
    "                img_copy = img.copy()\n",
    "                images.append(img_copy)\n",
    "                labels.append(label)\n",
    "        except Exception as e:\n",
    "            print(f\"Errore nell'aprire {img_path}: {e}\")\n",
    "    return images, labels"
   ]
  },
  {
   "cell_type": "code",
   "execution_count": 4,
   "metadata": {},
   "outputs": [],
   "source": [
    "fake_train_path = 'archive/train/FAKE'\n",
    "real_train_path = 'archive/train/REAL'\n",
    "fake_test_path = 'archive/test/FAKE'\n",
    "real_test_path = 'archive/test/REAL'\n",
    "\n",
    "# TRAIN\n",
    "fake_train_images, fake_train_labels = load_images_with_labels(fake_train_path, 0)\n",
    "real_train_images, real_train_labels = load_images_with_labels(real_train_path, 1)\n",
    "\n",
    "# TEST\n",
    "fake_test_images, fake_test_labels = load_images_with_labels(fake_test_path, 0)\n",
    "real_test_images, real_test_labels = load_images_with_labels(real_test_path, 1)"
   ]
  },
  {
   "cell_type": "code",
   "execution_count": 5,
   "metadata": {},
   "outputs": [],
   "source": [
    "transform = transforms.Compose([\n",
    "    transforms.Normalize(mean=[0.485, 0.456, 0.406], std=[0.229, 0.224, 0.225]) \n",
    "])\n",
    "\n",
    "# Tensors\n",
    "fake_train_tensors = [transform(image) for image in fake_train_images]\n",
    "real_train_tensors = [transform(image) for image in real_train_images]\n",
    "fake_test_tensors = [transform(image) for image in fake_test_images]\n",
    "real_test_tensors = [transform(image) for image in real_test_images]\n",
    "\n",
    "fake_train_labels_tensor = torch.tensor(fake_train_labels, dtype=torch.long)\n",
    "real_train_labels_tensor = torch.tensor(real_train_labels, dtype=torch.long)\n",
    "fake_test_labels_tensor = torch.tensor(fake_test_labels, dtype=torch.long)\n",
    "real_test_labels_tensor = torch.tensor(real_test_labels, dtype=torch.long)"
   ]
  },
  {
   "cell_type": "code",
   "execution_count": 6,
   "metadata": {},
   "outputs": [],
   "source": [
    "# TRAIN\n",
    "fake_train_dataset = TensorDataset(torch.stack(fake_train_tensors), fake_train_labels_tensor)\n",
    "real_train_dataset = TensorDataset(torch.stack(real_train_tensors), real_train_labels_tensor)\n",
    "train_dataset = ConcatDataset([fake_train_dataset, real_train_dataset])\n",
    "batch_size = 32\n",
    "train_loader = DataLoader(train_dataset, batch_size=batch_size, shuffle=True)\n",
    "\n",
    "#  TEST\n",
    "fake_test_dataset = TensorDataset(torch.stack(fake_test_tensors), fake_test_labels_tensor)\n",
    "real_test_dataset = TensorDataset(torch.stack(real_test_tensors), real_test_labels_tensor)\n",
    "test_dataset = ConcatDataset([fake_test_dataset, real_test_dataset])\n",
    "test_loader = DataLoader(test_dataset, batch_size=batch_size, shuffle=True)"
   ]
  }
 ],
 "metadata": {
  "kernelspec": {
   "display_name": "Python 3",
   "language": "python",
   "name": "python3"
  },
  "language_info": {
   "codemirror_mode": {
    "name": "ipython",
    "version": 3
   },
   "file_extension": ".py",
   "mimetype": "text/x-python",
   "name": "python",
   "nbconvert_exporter": "python",
   "pygments_lexer": "ipython3",
   "version": "3.11.5"
  }
 },
 "nbformat": 4,
 "nbformat_minor": 2
}
