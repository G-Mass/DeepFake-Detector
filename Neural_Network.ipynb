{
 "cells": [
  {
   "cell_type": "markdown",
   "metadata": {},
   "source": [
    "# Deepfake detector\n"
   ]
  },
  {
   "cell_type": "code",
   "execution_count": 69,
   "metadata": {},
   "outputs": [],
   "source": [
    "from PIL import Image\n",
    "import os\n",
    "import numpy as np\n",
    "import torch\n",
    "from torch.utils.data import TensorDataset, DataLoader, ConcatDataset\n",
    "#from torchvision import transforms"
   ]
  },
  {
   "cell_type": "code",
   "execution_count": 60,
   "metadata": {},
   "outputs": [],
   "source": [
    "# importing FAKE images for TEST\n",
    "\n",
    "def load_images_from_folder(folder):\n",
    "    lst = []\n",
    "    for filename in os.listdir(folder):\n",
    "        img_path = os.path.join(folder, filename)\n",
    "        try:\n",
    "            with Image.open(img_path) as img:  \n",
    "                img_copy = img.copy() \n",
    "                lst.append(img_copy)\n",
    "        except Exception as e:\n",
    "            print(f\"Errore nell'aprire {img_path}: {e}\")\n",
    "    return lst\n",
    "\n",
    "folder_path = 'archive/test/FAKE'\n",
    "fake_test = load_images_from_folder(folder_path, 1)"
   ]
  },
  {
   "cell_type": "code",
   "execution_count": 61,
   "metadata": {},
   "outputs": [],
   "source": [
    "# importing REAL images for TEST\n",
    "\n",
    "folder_path = 'archive/test/REAL'\n",
    "real_test = load_images_from_folder(folder_path, 0)"
   ]
  },
  {
   "cell_type": "code",
   "execution_count": 62,
   "metadata": {},
   "outputs": [],
   "source": [
    "# importing FAKE images for TRAIN\n",
    "\n",
    "folder_path = 'archive/train/FAKE'\n",
    "fake_train = load_images_from_folder(folder_path, 1)"
   ]
  },
  {
   "cell_type": "code",
   "execution_count": 63,
   "metadata": {},
   "outputs": [],
   "source": [
    "# importing REAL images for TRAIN\n",
    "\n",
    "folder_path = 'archive/train/REAL'\n",
    "real_train = load_images_from_folder(folder_path, 0)"
   ]
  },
  {
   "cell_type": "code",
   "execution_count": 68,
   "metadata": {},
   "outputs": [
    {
     "ename": "ValueError",
     "evalue": "setting an array element with a sequence. The requested array has an inhomogeneous shape after 2 dimensions. The detected shape was (2, 50001) + inhomogeneous part.",
     "output_type": "error",
     "traceback": [
      "\u001b[0;31m---------------------------------------------------------------------------\u001b[0m",
      "\u001b[0;31mValueError\u001b[0m                                Traceback (most recent call last)",
      "Cell \u001b[0;32mIn[68], line 2\u001b[0m\n\u001b[1;32m      1\u001b[0m \u001b[38;5;66;03m# TRAIN\u001b[39;00m\n\u001b[0;32m----> 2\u001b[0m fake_train \u001b[38;5;241m=\u001b[39m \u001b[43mnp\u001b[49m\u001b[38;5;241;43m.\u001b[39;49m\u001b[43marray\u001b[49m\u001b[43m(\u001b[49m\u001b[43mfake_train\u001b[49m\u001b[43m)\u001b[49m\n\u001b[1;32m      3\u001b[0m real_train \u001b[38;5;241m=\u001b[39m np\u001b[38;5;241m.\u001b[39marray(real_train)\n\u001b[1;32m      5\u001b[0m \u001b[38;5;66;03m# creating tensors\u001b[39;00m\n",
      "\u001b[0;31mValueError\u001b[0m: setting an array element with a sequence. The requested array has an inhomogeneous shape after 2 dimensions. The detected shape was (2, 50001) + inhomogeneous part."
     ]
    }
   ],
   "source": [
    "# TRAIN\n",
    "fake_train = np.array(fake_train)\n",
    "real_train = np.array(real_train)\n",
    "\n",
    "# creating tensors\n",
    "fake_train_tensor = torch.tensor(fake_train)\n",
    "real_train_tensor = torch.tensor(real_train)\n",
    "\n",
    "# datasets\n",
    "fake = torch.utils.data.TensorDataset(fake_train_tensor)\n",
    "real = torch.utils.data.TensorDataset(real_train_tensor)\n",
    "train = ConcatDataset([fake, real])\n",
    "\n",
    "# DataLoader \n",
    "batch_size = 32\n",
    "train_loader = DataLoader(train, batch_size = batch_size, shuffle = True)"
   ]
  },
  {
   "cell_type": "code",
   "execution_count": 50,
   "metadata": {},
   "outputs": [],
   "source": [
    "# TEST\n",
    "fake_test = np.array(fake_test)\n",
    "real_test = np.array(real_test)\n",
    "\n",
    "# creating tensors\n",
    "fake_test_tensor = torch.tensor(fake_test)\n",
    "real_test_tensor = torch.tensor(real_test)\n",
    "\n",
    "# datasets\n",
    "fake = torch.utils.data.TensorDataset(fake_test_tensor)\n",
    "real = torch.utils.data.TensorDataset(real_test_tensor)\n",
    "test = ConcatDataset([fake, real])\n",
    "\n",
    "# DataLoader \n",
    "batch_size = 32\n",
    "test_loader = DataLoader(test, batch_size = batch_size, shuffle = True)"
   ]
  }
 ],
 "metadata": {
  "kernelspec": {
   "display_name": "Python 3",
   "language": "python",
   "name": "python3"
  },
  "language_info": {
   "codemirror_mode": {
    "name": "ipython",
    "version": 3
   },
   "file_extension": ".py",
   "mimetype": "text/x-python",
   "name": "python",
   "nbconvert_exporter": "python",
   "pygments_lexer": "ipython3",
   "version": "3.11.5"
  }
 },
 "nbformat": 4,
 "nbformat_minor": 2
}
