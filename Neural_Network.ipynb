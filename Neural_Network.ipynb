{
 "cells": [
  {
   "cell_type": "markdown",
   "metadata": {},
   "source": [
    "# Deepfake detector\n"
   ]
  },
  {
   "cell_type": "code",
   "execution_count": 40,
   "metadata": {},
   "outputs": [],
   "source": [
    "from PIL import Image\n",
    "import os\n",
    "import numpy as np\n",
    "import torch\n",
    "from torch.utils.data import TensorDataset, DataLoader, ConcatDataset\n",
    "#from torchvision import datasets, transforms"
   ]
  },
  {
   "cell_type": "code",
   "execution_count": 25,
   "metadata": {},
   "outputs": [],
   "source": [
    "# importing FAKE images for TEST\n",
    "\n",
    "def load_images_from_folder(folder):\n",
    "    fake_test = []\n",
    "    for filename in os.listdir(folder):\n",
    "        img_path = os.path.join(folder, filename)\n",
    "        try:\n",
    "            with Image.open(img_path) as img:  \n",
    "                img_copy = img.copy()  \n",
    "                fake_test.append(img_copy)\n",
    "        except Exception as e:\n",
    "            print(f\"Errore nell'aprire {img_path}: {e}\")\n",
    "    return fake_test\n",
    "\n",
    "folder_path = 'archive/test/FAKE'\n",
    "fake_test = load_images_from_folder(folder_path)"
   ]
  },
  {
   "cell_type": "code",
   "execution_count": 26,
   "metadata": {},
   "outputs": [],
   "source": [
    "# importing REAL images for TEST\n",
    "\n",
    "def load_images_from_folder(folder):\n",
    "    real_test = []\n",
    "    for filename in os.listdir(folder):\n",
    "        img_path = os.path.join(folder, filename)\n",
    "        try:\n",
    "            with Image.open(img_path) as img:  \n",
    "                img_copy = img.copy() \n",
    "                real_test.append(img_copy)\n",
    "        except Exception as e:\n",
    "            print(f\"Errore nell'aprire {img_path}: {e}\")\n",
    "    return real_test\n",
    "\n",
    "folder_path = 'archive/test/REAL'\n",
    "real_test = load_images_from_folder(folder_path)"
   ]
  },
  {
   "cell_type": "code",
   "execution_count": 27,
   "metadata": {},
   "outputs": [],
   "source": [
    "# importing FAKE images for TRAIN\n",
    "\n",
    "def load_images_from_folder(folder):\n",
    "    fake_train = []\n",
    "    for filename in os.listdir(folder):\n",
    "        img_path = os.path.join(folder, filename)\n",
    "        try:\n",
    "            with Image.open(img_path) as img:  \n",
    "                img_copy = img.copy()  \n",
    "                fake_train.append(img_copy)\n",
    "        except Exception as e:\n",
    "            print(f\"Errore nell'aprire {img_path}: {e}\")\n",
    "    return fake_train\n",
    "\n",
    "folder_path = 'archive/train/FAKE'\n",
    "fake_train = load_images_from_folder(folder_path)"
   ]
  },
  {
   "cell_type": "code",
   "execution_count": 28,
   "metadata": {},
   "outputs": [],
   "source": [
    "# importing REAL images for TRAIN\n",
    "\n",
    "def load_images_from_folder(folder):\n",
    "    real_train = []\n",
    "    for filename in os.listdir(folder):\n",
    "        img_path = os.path.join(folder, filename)\n",
    "        try:\n",
    "            with Image.open(img_path) as img:  \n",
    "                img_copy = img.copy() \n",
    "                real_train.append(img_copy)\n",
    "        except Exception as e:\n",
    "            print(f\"Errore nell'aprire {img_path}: {e}\")\n",
    "    return real_train\n",
    "\n",
    "folder_path = 'archive/train/REAL'\n",
    "real_train = load_images_from_folder(folder_path)"
   ]
  },
  {
   "cell_type": "code",
   "execution_count": 49,
   "metadata": {},
   "outputs": [],
   "source": [
    "# TRAIN\n",
    "fake_train = np.array(fake_train)\n",
    "real_train = np.array(real_train)\n",
    "\n",
    "# creating tensors\n",
    "fake_train_tensor = torch.tensor(fake_train)\n",
    "real_train_tensor = torch.tensor(real_train)\n",
    "\n",
    "# datasets\n",
    "fake = torch.utils.data.TensorDataset(fake_train_tensor)\n",
    "real = torch.utils.data.TensorDataset(real_train_tensor)\n",
    "train = ConcatDataset([fake, real])\n",
    "\n",
    "# DataLoader \n",
    "batch_size = 32\n",
    "train_loader = DataLoader(train, batch_size = batch_size, shuffle = True)"
   ]
  },
  {
   "cell_type": "code",
   "execution_count": 50,
   "metadata": {},
   "outputs": [],
   "source": [
    "# TEST\n",
    "fake_test = np.array(fake_test)\n",
    "real_test = np.array(real_test)\n",
    "\n",
    "# creating tensors\n",
    "fake_test_tensor = torch.tensor(fake_test)\n",
    "real_test_tensor = torch.tensor(real_test)\n",
    "\n",
    "# datasets\n",
    "fake = torch.utils.data.TensorDataset(fake_test_tensor)\n",
    "real = torch.utils.data.TensorDataset(real_test_tensor)\n",
    "test = ConcatDataset([fake, real])\n",
    "\n",
    "# DataLoader \n",
    "batch_size = 32\n",
    "test_loader = DataLoader(test, batch_size = batch_size, shuffle = True)"
   ]
  }
 ],
 "metadata": {
  "kernelspec": {
   "display_name": "Python 3",
   "language": "python",
   "name": "python3"
  },
  "language_info": {
   "codemirror_mode": {
    "name": "ipython",
    "version": 3
   },
   "file_extension": ".py",
   "mimetype": "text/x-python",
   "name": "python",
   "nbconvert_exporter": "python",
   "pygments_lexer": "ipython3",
   "version": "3.11.5"
  }
 },
 "nbformat": 4,
 "nbformat_minor": 2
}
